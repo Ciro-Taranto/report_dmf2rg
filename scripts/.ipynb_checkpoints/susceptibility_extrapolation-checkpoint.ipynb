{
 "cells": [
  {
   "cell_type": "code",
   "execution_count": 1,
   "metadata": {
    "collapsed": true
   },
   "outputs": [],
   "source": [
    "import matplotlib.pyplot as plt\n",
    "import numpy as np \n",
    "%matplotlib inline"
   ]
  },
  {
   "cell_type": "code",
   "execution_count": 2,
   "metadata": {
    "collapsed": true
   },
   "outputs": [],
   "source": [
    "doping = np.arange(0,0.22,0.01)\n",
    "fun_doping = 1.-20*doping*doping"
   ]
  },
  {
   "cell_type": "code",
   "execution_count": 9,
   "metadata": {},
   "outputs": [],
   "source": [
    "def Tcri(T,chi):\n",
    "    print (T, chi)\n",
    "    return np.polyfit(1./chi,T,1)\n",
    "def Tfit(T,chi):\n",
    "    return np.polyfit(T,1./chi,1)"
   ]
  },
  {
   "cell_type": "code",
   "execution_count": 11,
   "metadata": {},
   "outputs": [
    {
     "name": "stdout",
     "output_type": "stream",
     "text": [
      "(array([ 0.30769231,  0.28571429,  0.26666667,  0.25      ,  0.23529412]), array([  3.86933062,   5.37587048,   8.14209828,  14.9255453 ,  58.6961127 ]))\n",
      "(array([ 0.30769231,  0.28571429,  0.26666667,  0.25      ,  0.23529412]), array([  3.37390051,   4.45172681,   6.20444535,   9.32534112,  17.65907479]))\n"
     ]
    },
    {
     "data": {
      "image/png": "[encoded data removed]",
      "text/plain": [
       "<matplotlib.figure.Figure at 0x7f32cc8d0e50>"
      ]
     },
     "metadata": {},
     "output_type": "display_data"
    }
   ],
   "source": [
    "plt.clf()\n",
    "chi_dmft = np.loadtxt('../data/chi_dmft.dat')\n",
    "chi_dmf2rg = np.loadtxt('../data/chi_dmf2rg.dat')\n",
    "\n",
    "# Define fitting functions\n",
    "Tr = np.arange(0.1,0.4,0.01)\n",
    "T_dmft_fit = Tfit(4./chi_dmft[:,0],chi_dmft[:,3]/4.)\n",
    "T_dmf2rg_fit = Tfit(4./chi_dmf2rg[:,0],chi_dmf2rg[:,3]/4.)\n",
    "\n",
    "\n",
    "T_dmft   = Tcri(4./chi_dmft[:,0],chi_dmft[:,3]/4.)\n",
    "T_dmf2rg = Tcri(4./chi_dmf2rg[:,0],chi_dmf2rg[:,3]/4.)\n",
    "plt.plot( Tr, Tr*T_dmft_fit[0] + T_dmft_fit[1], '--',color=\"grey\",alpha=0.6 )\n",
    "plt.plot( Tr, Tr*T_dmf2rg_fit[0] + T_dmf2rg_fit[1], '--' ,color=\"grey\",alpha=0.6 )\n",
    "plt.scatter( 4./chi_dmft[:,0], 4./(chi_dmft[:,3]),marker='o', label='DMFT',edgecolor=\"black\",s=50,alpha=0.8 )\n",
    "plt.scatter( 4./chi_dmf2rg[:,0], 4./(chi_dmf2rg[:,3]),marker='o', label=r'DMF$^2$RG',edgecolor=\"black\",s=50,alpha=0.8 )\n",
    "\n",
    "\n",
    "plt.xlim([4*0.044,4*0.08])\n",
    "plt.ylim([0.,4*0.08])\n",
    "#plt.legend(fontsize=14)\n",
    "#plt.gca().grid()\n",
    "plt.xlabel(r\"$T$\",fontsize=18)\n",
    "plt.title(r\"$\\chi_{s}^{-1}(\\pi,\\pi)$\",fontsize=18)\n",
    "#plt.ylabel(r\"$\\chi_{s}^{-1}$\",fontsize=18)\n",
    "plt.gca().set_aspect(0.46)\n",
    "plt.gca().annotate(r\"$\\chi^{-1}_{\\mathrm{DMFT}}$\",xy=(0.275,0.1),fontsize=18)\n",
    "plt.gca().annotate(r\"$\\chi^{-1}_{\\mathrm{DMF^2RG}}$\",xy=(0.215,0.15),fontsize=18)\n",
    "plt.tight_layout()\n",
    "plt.savefig(\"../plots/extrapolate_susc.png\",dpi=300)\n",
    "\n",
    "\n"
   ]
  }
 ],
 "metadata": {
  "kernelspec": {
   "display_name": "Python 2",
   "language": "python",
   "name": "python2"
  },
  "language_info": {
   "codemirror_mode": {
    "name": "ipython",
    "version": 2
   },
   "file_extension": ".py",
   "mimetype": "text/x-python",
   "name": "python",
   "nbconvert_exporter": "python",
   "pygments_lexer": "ipython2",
   "version": "2.7.13"
  }
 },
 "nbformat": 4,
 "nbformat_minor": 2
}
